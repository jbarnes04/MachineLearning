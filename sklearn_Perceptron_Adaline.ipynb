{
  "cells": [
    {
      "cell_type": "code",
      "execution_count": null,
      "id": "e1da8579-debe-4680-b017-fe8df34cb314",
      "metadata": {
        "trusted": true
      },
      "outputs": [],
      "source": [
        "# scikit-learn pereptron and adaline implementations\n",
        "from sklearn.linear_model import Perceptron as SklearnPerceptron\n",
        "from sklearn.linear_model import SGDClassifier\n",
        "from sklearn.metrics import accuracy_score"
      ]
    },
    {
      "cell_type": "code",
      "execution_count": 5,
      "id": "46237622",
      "metadata": {},
      "outputs": [
        {
          "name": "stdout",
          "output_type": "stream",
          "text": [
            "Preprocessing complete.\n",
            "Train shape: (26048, 102)\n",
            "Test shape: (6513, 102)\n"
          ]
        }
      ],
      "source": [
        "# Preprocessing\n",
        "import pandas as pd\n",
        "from sklearn.preprocessing import StandardScaler\n",
        "\n",
        "# Load datasets\n",
        "train_df = pd.read_csv(\"/Users/jodis/ML/Project1/project_adult.csv\")\n",
        "test_df = pd.read_csv(\"/Users/jodis/ML/Project1/project_validation_inputs.csv\")\n",
        "\n",
        "# Replace ? with NaN and fill with Unknown\n",
        "train_df = train_df.replace(\"?\", \"Unknown\")\n",
        "test_df = test_df.replace(\"?\", \"Unknown\")\n",
        "\n",
        "# Identify categorical and numeric columns\n",
        "categorical_cols = train_df.select_dtypes(include=\"object\").columns.tolist()\n",
        "if \"income\" in categorical_cols:\n",
        "    categorical_cols.remove(\"income\")\n",
        "numeric_cols = train_df.select_dtypes(include=\"int64\").columns.tolist()\n",
        "\n",
        "# One-hot encode categorical variables\n",
        "train_encoded = pd.get_dummies(train_df, columns=categorical_cols, drop_first=True)\n",
        "test_encoded = pd.get_dummies(test_df, columns=categorical_cols, drop_first=True)\n",
        "\n",
        "# Align test set to train set columns\n",
        "test_encoded = test_encoded.reindex(columns=train_encoded.columns, fill_value=0)\n",
        "\n",
        "# Standardize numerical features\n",
        "scaler = StandardScaler()\n",
        "train_encoded[numeric_cols] = scaler.fit_transform(train_encoded[numeric_cols])\n",
        "test_encoded[numeric_cols] = scaler.transform(test_encoded[numeric_cols])\n",
        "\n",
        "# Split features and target\n",
        "X_train = train_encoded.drop(columns=[\"income\"])\n",
        "y_train = train_df[\"income\"].map({\">50K\": 1, \"<=50K\": 0})\n",
        "X_test = test_encoded.drop(columns=[\"income\"], errors=\"ignore\")\n",
        "y_test = y_train.sample(len(X_test), random_state=42)\n",
        "\n",
        "# Outputs\n",
        "print(\"Preprocessing complete.\")\n",
        "print(\"Train shape:\", train_encoded.shape)\n",
        "print(\"Test shape:\", test_encoded.shape)"
      ]
    },
    {
      "cell_type": "code",
      "execution_count": 7,
      "id": "24267c51",
      "metadata": {},
      "outputs": [],
      "source": [
        "# Custom Perceptron\n",
        "import pandas as pd\n",
        "\n",
        "class PerceptronCustom:\n",
        "    def __init__(self, eta=0.1, n_iter=15, random_state=42):\n",
        "        self.eta = eta\n",
        "        self.n_iter = n_iter\n",
        "        self.random_state = np.random.RandomState(random_state)\n",
        "\n",
        "    def fit(self, X, y):\n",
        "        self.w_ = self.random_state.normal(loc=0.0, scale=0.01, size=X.shape[1] + 1)\n",
        "        self.errors_ = []\n",
        "\n",
        "        for _ in range(self.n_iter):\n",
        "            errors = 0\n",
        "            for xi, target in zip(X, y):\n",
        "                update = self.eta * (target - self.predict(xi))\n",
        "                self.w_[1:] += update * xi\n",
        "                self.w_[0] += update\n",
        "                errors += int(update != 0.0)\n",
        "            self.errors_.append(errors)\n",
        "        return self\n",
        "    \n",
        "    def net_input(self, X):\n",
        "        return np.dot(X, self.w_[1:]) + self.w_[0]\n",
        "    \n",
        "    def predict(self, X):\n",
        "        return np.where(self.net_input(X) >= 0.0, 1, 0)"
      ]
    },
    {
      "cell_type": "code",
      "execution_count": null,
      "id": "14df48b8",
      "metadata": {},
      "outputs": [],
      "source": []
    },
    {
      "cell_type": "code",
      "execution_count": 2,
      "id": "68242296-929b-48a1-8408-e4f5f203c9a0",
      "metadata": {
        "trusted": true
      },
      "outputs": [
        {
          "ename": "NameError",
          "evalue": "name 'X_train' is not defined",
          "output_type": "error",
          "traceback": [
            "\u001b[1;31m---------------------------------------------------------------------------\u001b[0m",
            "\u001b[1;31mNameError\u001b[0m                                 Traceback (most recent call last)",
            "Cell \u001b[1;32mIn[2], line 13\u001b[0m\n\u001b[0;32m     11\u001b[0m \u001b[38;5;66;03m# Scikit-learn Perceptron\u001b[39;00m\n\u001b[0;32m     12\u001b[0m sk_ppn \u001b[38;5;241m=\u001b[39m SklearnPerceptron(eta0\u001b[38;5;241m=\u001b[39m\u001b[38;5;241m0.1\u001b[39m, max_iter\u001b[38;5;241m=\u001b[39m\u001b[38;5;241m15\u001b[39m, random_state\u001b[38;5;241m=\u001b[39m\u001b[38;5;241m42\u001b[39m)\n\u001b[1;32m---> 13\u001b[0m sk_ppn\u001b[38;5;241m.\u001b[39mfit(\u001b[43mX_train\u001b[49m, y_train)\n\u001b[0;32m     14\u001b[0m sk_y_pred_ppn \u001b[38;5;241m=\u001b[39m sk_ppn\u001b[38;5;241m.\u001b[39mpredict(X_test)\n\u001b[0;32m     15\u001b[0m \u001b[38;5;28mprint\u001b[39m(\u001b[38;5;124mf\u001b[39m\u001b[38;5;124m\"\u001b[39m\u001b[38;5;124mScikit-learn Perceptron accuracy: \u001b[39m\u001b[38;5;132;01m{\u001b[39;00maccuracy_score(y_test,\u001b[38;5;250m \u001b[39msk_y_pred_ppn)\u001b[38;5;132;01m:\u001b[39;00m\u001b[38;5;124m.4f\u001b[39m\u001b[38;5;132;01m}\u001b[39;00m\u001b[38;5;124m\"\u001b[39m)\n",
            "\u001b[1;31mNameError\u001b[0m: name 'X_train' is not defined"
          ]
        }
      ],
      "source": [
        "# Assumption:  This code assumes you have already clean, processed, and split a data set.\n",
        "'''\n",
        "Input Data Required:\n",
        "X_train = cleaned, processed input data for training prediction models\n",
        "y_train = response variable associated with X_train; truth values\n",
        "X_test = cleaned, processed input data for testing prediction model created on training dataset\n",
        "y_test = response variable associated with X_test; truth values\n",
        "\n",
        "Note: Current order of rows ensure y_train = X_train and y_test = X_test, but if you sort and remove rows this association changes.\n",
        "'''\n",
        "# Scikit-learn Perceptron\n",
        "sk_ppn = SklearnPerceptron(eta0=0.1, max_iter=15, random_state=42)\n",
        "sk_ppn.fit(X_train, y_train)\n",
        "sk_y_pred_ppn = sk_ppn.predict(X_test)\n",
        "print(f\"Scikit-learn Perceptron accuracy: {accuracy_score(y_test, sk_y_pred_ppn):.4f}\")\n",
        "\n",
        "# Scikit-learn Adaline (using SGDClassifier with 'log_loss' is closer, but 'perceptron' is available)\n",
        "# For Adaline (which uses GD), SGDClassifier with 'hinge' loss is a good proxy, as it's a linear classifier with regularization\n",
        "sk_ada = SGDClassifier(loss='perceptron', eta0=0.0001, learning_rate='constant', max_iter=15, random_state=42)\n",
        "sk_ada.fit(X_train, y_train)\n",
        "sk_y_pred_ada = sk_ada.predict(X_test)\n",
        "print(f\"Scikit-learn Adaline (SGDClassifier) accuracy: {accuracy_score(y_test, sk_y_pred_ada):.4f}\")"
      ]
    }
  ],
  "metadata": {
    "kernelspec": {
      "display_name": "Python 3",
      "language": "python",
      "name": "python3"
    },
    "language_info": {
      "codemirror_mode": {
        "name": "ipython",
        "version": 3
      },
      "file_extension": ".py",
      "mimetype": "text/x-python",
      "name": "python",
      "nbconvert_exporter": "python",
      "pygments_lexer": "ipython3",
      "version": "3.11.9"
    }
  },
  "nbformat": 4,
  "nbformat_minor": 5
}
